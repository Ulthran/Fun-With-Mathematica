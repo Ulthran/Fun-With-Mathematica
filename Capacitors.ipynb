{
 "cells": [
  {
   "cell_type": "markdown",
   "id": "b01f5caf",
   "metadata": {},
   "source": [
    "# Lab 02 : Electric Fields of Various Electrode Geometries\n",
    "Converted from the original Mathematica notebook."
   ]
  },
  {
   "cell_type": "markdown",
   "id": "982b130f",
   "metadata": {},
   "source": [
    "Charlie Bushman\n",
    "Phys 235 Lab 02\n",
    "04-09-19"
   ]
  },
  {
   "cell_type": "markdown",
   "id": "32724a53",
   "metadata": {},
   "source": [
    "## Section A : Parallel Plate Capacitor\n",
    "Using two flat parallel electrodes, we will find the charge on them for given input voltages. The voltages will be supplied by a function generator set to 16 kHz and the output voltages from the parallel plate capacitor is amplified then measured by an oscilloscope."
   ]
  },
  {
   "cell_type": "markdown",
   "id": "2afe55bf",
   "metadata": {},
   "source": [
    "### Section A .1 : Amplifier Proportionality Constant\n",
    "The amplifier we are using has a unique proportionality constant (about 0.08 V output for 1 pC input charge) which we must determine before using the amplifier. We use a series of test capacitors of known capacitances and measure output voltages for a constant input voltage."
   ]
  },
  {
   "cell_type": "code",
   "execution_count": null,
   "id": "0e1f5814",
   "metadata": {},
   "outputs": [],
   "source": [
    "Needs[\"ErrorBarPlots`\"]\n",
    "\n",
    "(* Table 1: Capacitance vs Voltages *)\n",
    "capFxnVoltAmpfVolt = {\n",
    "    {22*10^-12, 3.68, 7.36},\n",
    "    {15*10^-12, 3.68, 5.04},\n",
    "    {10*10^-12, 3.68, 3.36},\n",
    "    {5*10^-12, 3.68, 1.88},\n",
    "    {2*10^-12, 3.68, 0.728},\n",
    "    {1*10^-12, 3.68, 0.396}\n",
    "};\n",
    "\n",
    "chrgAmpfVolt = Table[\n",
    "    {\n",
    "        capFxnVoltAmpfVolt[[i,1]]*capFxnVoltAmpfVolt[[i,2]],\n",
    "        capFxnVoltAmpfVolt[[i,3]]\n",
    "    },\n",
    "    {i,1,Length[capFxnVoltAmpfVolt]}\n",
    "];\n",
    "\n",
    "chrgAmpfVolt // N // TableForm"
   ]
  },
  {
   "cell_type": "markdown",
   "id": "aa0c1f23",
   "metadata": {},
   "source": [
    "### Section A .2 : Capacitance of Parallel Plates\n",
    "Further analysis uses the measured amplifier constant to compute the capacitance of the parallel plates. (Computation steps to be added.)"
   ]
  },
  {
   "cell_type": "markdown",
   "id": "deca19f0",
   "metadata": {},
   "source": [
    "## Section B : Cylinder Over Grounded Plate\n",
    "Explores electric fields for a cylinder elevated over a grounded plate with varying separation and horizontal offset. (Details to be added.)"
   ]
  }
 ],
 "metadata": {},
 "nbformat": 4,
 "nbformat_minor": 5
}
