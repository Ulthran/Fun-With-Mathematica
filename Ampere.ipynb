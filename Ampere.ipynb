{
 "cells": [
  {
   "cell_type": "markdown",
   "metadata": {},
   "source": [
    "# Lab 4: Magnetic Fields and Ampere's Law"
   ]
  },
  {
   "cell_type": "markdown",
   "metadata": {},
   "source": [
    "Charlie Bushman\n",
    "\n",
    "Phys 235 Lab #4\n",
    "\n",
    "04-30-19"
   ]
  },
  {
   "cell_type": "code",
   "metadata": {},
   "execution_count": null,
   "outputs": [],
   "source": [
    "import numpy as np\n",
    "import matplotlib.pyplot as plt"
   ]
  },
  {
   "cell_type": "code",
   "metadata": {},
   "execution_count": null,
   "outputs": [],
   "source": [
    "# Error propagation helper in Python\n",
    "import sympy as sp\n",
    "\n",
    "def delta_Q(f, p, delta):\n",
    "    \"\"\"\n",
    "    f: sympy expression\n",
    "    p: list of sympy symbols (parameters)\n",
    "    delta: list of uncertainties (numbers or sympy expressions)\n",
    "    Returns: propagated uncertainty (symbolic or numeric)\n",
    "    \"\"\"\n",
    "    terms = [(sp.diff(f, p_i) * delta_i)**2 for p_i, delta_i in zip(p, delta)]\n",
    "    return sp.sqrt(sum(terms))"
   ]
  },
  {
   "cell_type": "markdown",
   "metadata": {},
   "source": [
    "## Section A: Calibration of the Hall sensor"
   ]
  },
  {
   "cell_type": "code",
   "metadata": {},
   "execution_count": null,
   "outputs": [],
   "source": [
    "# Python translation of Mathematica code for calibration of the Hall sensor\n",
    "from scipy.optimize import curve_fit\n",
    "\n",
    "# Example Hall voltage data (replace with actual values if available)\n",
    "hall_voltages = np.array([0.012, 0.011, 0.010, 0.009, 0.008, 0.007, 0.006, 0.005])  # Example values\n",
    "magnetic_fields = np.array([1.18, 1.06, 0.960, 0.840, 0.720, 0.620, 0.520, 0.380])\n",
    "\n",
    "delta1 = np.array([0.04,0.02,0.02,0.02,0.02,0.02,0.02,0.02])\n",
    "delta2 = np.array([0.04,0.04,0.04,0.04,0.04,0.04,0.04,0.04])\n",
    "\n",
    "# Linear fit: Hall voltage vs. magnetic field\n",
    "def linear(x, m, b):\n",
    "    return m * x + b\n",
    "\n",
    "popt, pcov = curve_fit(linear, magnetic_fields, hall_voltages, sigma=delta2, absolute_sigma=True)\n",
    "slope, intercept = popt\n",
    "slope_err = np.sqrt(pcov[0,0])\n",
    "\n",
    "print(f\"Proportionality constant: {slope:.6e} ± {slope_err:.6e} V/T\")\n",
    "\n",
    "# Plot with error bars\n",
    "plt.errorbar(magnetic_fields, hall_voltages, xerr=delta1, yerr=delta2, fmt='o', label='Data')\n",
    "xfit = np.linspace(0, 2, 100)\n",
    "plt.plot(xfit, linear(xfit, *popt), label='Linear fit')\n",
    "plt.xlabel('Magnetic Field (T)')\n",
    "plt.ylabel('Hall Voltage (V)')\n",
    "plt.legend()\n",
    "plt.show()"
   ]
  }
 ],
 "metadata": {
  "kernelspec": {
   "name": "python3",
   "display_name": "Python 3",
   "language": "python"
  },
  "language_info": {
   "name": "python",
   "version": "3.9"
  }
 },
 "nbformat": 4,
 "nbformat_minor": 5
}
