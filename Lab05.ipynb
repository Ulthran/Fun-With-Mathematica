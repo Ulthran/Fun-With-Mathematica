{
 "cells": [
  {
   "cell_type": "markdown",
   "id": "ed6dfb79",
   "metadata": {},
   "source": [
    "# Lab 05\n",
    "Converted from the original Mathematica notebook."
   ]
  },
  {
   "cell_type": "markdown",
   "id": "a75da9eb",
   "metadata": {},
   "source": [
    "## Sim Data Bifurcation Plot"
   ]
  },
  {
   "cell_type": "code",
   "execution_count": null,
   "id": "5eb33327",
   "metadata": {},
   "outputs": [],
   "source": [
    "import numpy as np\n",
    "import matplotlib.pyplot as plt\n",
    "\n",
    "# Logistic map bifurcation diagram\n",
    "r_values = np.linspace(2.5, 4.0, 800)\n",
    "iterations = 1000\n",
    "last = 100\n",
    "\n",
    "xs = np.zeros(iterations)\n",
    "points_r = []\n",
    "points_x = []\n",
    "for r in r_values:\n",
    "    x = 0.5\n",
    "    for i in range(iterations):\n",
    "        x = r * x * (1 - x)\n",
    "        if i >= (iterations - last):\n",
    "            points_r.append(r)\n",
    "            points_x.append(x)\n",
    "\n",
    "plt.figure(figsize=(6,4))\n",
    "plt.plot(points_r, points_x, ',k', alpha=0.25)\n",
    "plt.title('Logistic Map Bifurcation')\n",
    "plt.xlabel('r')\n",
    "plt.ylabel('x')\n",
    "plt.show()\n"
   ]
  },
  {
   "cell_type": "markdown",
   "id": "c1d64c95",
   "metadata": {},
   "source": [
    "## Linear Piecewise MG Approximation"
   ]
  },
  {
   "cell_type": "code",
   "execution_count": null,
   "id": "27c41f42",
   "metadata": {},
   "outputs": [],
   "source": [
    "import sympy as sp\n",
    "import numpy as np\n",
    "import matplotlib.pyplot as plt\n",
    "\n",
    "# Mackey-Glass inspired map\n",
    "x = sp.symbols('x')\n",
    "a, c = 1, 9.65\n",
    "mg = a*x/(1 + x**c)\n",
    "dmg = sp.diff(mg, x)\n",
    "peak = sp.solve(sp.Eq(dmg, 0), x)[0]\n",
    "\n",
    "mg_func = sp.lambdify(x, mg, 'numpy')\n",
    "dmg_func = sp.lambdify(x, dmg, 'numpy')\n",
    "xs = np.linspace(0, 2, 400)\n",
    "plt.figure(figsize=(6,4))\n",
    "plt.plot(xs, mg_func(xs))\n",
    "plt.axvline(float(peak), color='r', linestyle='--', label=f'peak ≈ {float(peak):.2f}')\n",
    "plt.legend()\n",
    "plt.title('MG map and peak')\n",
    "plt.show()\n",
    "\n",
    "plt.figure(figsize=(6,4))\n",
    "plt.plot(xs, dmg_func(xs))\n",
    "plt.axhline(0, color='k', linestyle='--')\n",
    "plt.title('Derivative of MG map')\n",
    "plt.show()\n"
   ]
  },
  {
   "cell_type": "markdown",
   "id": "0e155dce",
   "metadata": {},
   "source": [
    "## Autocorrelation and Power Spectra"
   ]
  },
  {
   "cell_type": "code",
   "execution_count": null,
   "id": "e7be6d4f",
   "metadata": {},
   "outputs": [],
   "source": [
    "import numpy as np\n",
    "import matplotlib.pyplot as plt\n",
    "\n",
    "# generate a time series using logistic map at r=3.9\n",
    "r = 3.9\n",
    "N = 1000\n",
    "x = np.empty(N)\n",
    "x[0] = 0.5\n",
    "for i in range(1, N):\n",
    "    x[i] = r * x[i-1] * (1 - x[i-1])\n",
    "\n",
    "# autocorrelation\n",
    "mean = np.mean(x)\n",
    "var = np.var(x)\n",
    "MAX_LAG = min(200, N)  # maximum lag for autocorrelation\n",
    "correlation = [np.sum((x[:N-l]-mean)*(x[l:]-mean))/((N-l)*var) for l in range(MAX_LAG)]\n",
    "plt.figure(figsize=(6,4))\n",
    "plt.plot(correlation)\n",
    "plt.title('Autocorrelation')\n",
    "plt.xlabel('lag')\n",
    "plt.ylabel('correlation')\n",
    "plt.show()\n",
    "\n",
    "# power spectrum\n",
    "fft_vals = np.fft.rfft(x - mean)\n",
    "power = np.abs(fft_vals)**2\n",
    "freqs = np.fft.rfftfreq(N, d=1)\n",
    "plt.figure(figsize=(6,4))\n",
    "plt.semilogy(freqs[1:500], power[1:500])\n",
    "plt.title('Power Spectrum')\n",
    "plt.xlabel('frequency')\n",
    "plt.ylabel('power')\n",
    "plt.show()\n"
   ]
  }
 ],
 "metadata": {},
 "nbformat": 4,
 "nbformat_minor": 5
}
